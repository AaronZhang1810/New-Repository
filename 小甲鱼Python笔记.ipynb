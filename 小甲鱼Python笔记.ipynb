{
 "cells": [
  {
   "cell_type": "code",
   "execution_count": 2,
   "id": "ad480e71",
   "metadata": {},
   "outputs": [
    {
     "name": "stdout",
     "output_type": "stream",
     "text": [
      "I love fishc.com\n",
      "8\n",
      "I love fishc.com\n"
     ]
    }
   ],
   "source": [
    "################     001     ################\n",
    "print(\"I love fishc.com\") #用双引号表示输出字符\n",
    "print(5+3) #不用双引号表示数值计算\n",
    "5+3 #数值计算也可不用print直接输入\n",
    "print(\"I love\"+\" fishc.com\") #字符串的拼接"
   ]
  },
  {
   "cell_type": "code",
   "execution_count": 3,
   "id": "df6506a9",
   "metadata": {},
   "outputs": [
    {
     "name": "stdout",
     "output_type": "stream",
     "text": [
      "-----ABC工作室-----\n",
      "不妨猜一下我现在心里想的是哪个数字：7\n",
      "猜错啦，答案是8！\n",
      "游戏结束，不玩啦^_^\n"
     ]
    }
   ],
   "source": [
    "################     002     ################\n",
    "print('-----ABC工作室-----')\n",
    "temp = input(\"不妨猜一下我现在心里想的是哪个数字：\") #赋值一个字符串变量，不是数字\n",
    "guess = int(temp) #将字符串转换为数字，必须是整数的字符串，有小数点就会报错\n",
    "#if temp == \"8\": #也可直接判断字符串，这种情况就可以输入任意字符串进行赋值而不会报错\n",
    "if guess == 8:\n",
    "    print(\"卧槽，你是我肚子里的蛔虫吗？！\") #缩进是Python代码简洁的核心原因\n",
    "    print(\"哼，猜中了也没有奖励\")\n",
    "else:\n",
    "    print(\"猜错啦，答案是8！\")\n",
    "print(\"游戏结束，不玩啦^_^\")\n",
    "#BIF: BIULT-IN FUNCTIONS\n",
    "#help()"
   ]
  },
  {
   "cell_type": "code",
   "execution_count": 32,
   "id": "73274621",
   "metadata": {},
   "outputs": [
    {
     "name": "stdout",
     "output_type": "stream",
     "text": [
      "小甲鱼\n",
      "10\n",
      "小甲鱼=XIAOJIAYU=xiaojiayu\n",
      "小甲鱼小甲鱼小甲鱼\n",
      "teacher\n",
      "teacher\n",
      "teacher\n",
      "\n",
      "C:\n",
      "ow\n",
      "C:\\now\\ds\\asd\\asd\\vv\\v\\vv\\vf\n",
      "C:\\now\\asd\\asd\\asd\\asd\\\n",
      "q\n",
      "q\n",
      "q\n",
      "q\n",
      "q\n",
      "\n"
     ]
    }
   ],
   "source": [
    "################     003     ################\n",
    "#赋值的左边叫做标识符，区分大小写\n",
    "teacher = '小甲鱼' #字符串赋值，单引号或双引号都可以\n",
    "print(teacher)\n",
    "first = 1 #数值赋值\n",
    "second = 9\n",
    "print(first + second)\n",
    "myteacher = '=XIAOJIAYU'\n",
    "MYTEACHER = \"=xiaojiayu\"\n",
    "print(teacher + myteacher + MYTEACHER)\n",
    "print(teacher*3)\n",
    "print(\"teacher\\n\"*3) #\\n表示空行\n",
    "\"5\"+\"8\"\n",
    "'Let\\'s go!' #引号作为字符的一部分用“\\”作为转义符号\n",
    "str = 'C:\\now'\n",
    "print(str)\n",
    "str = r'C:\\now\\ds\\asd\\asd\\vv\\v\\vv\\vf' #确实想要用“\\”符号则可在字符串前加r，表示该字符串全部对转义进行转义，负负得正即不转义\n",
    "str\n",
    "print(str)\n",
    "str = r'C:\\now\\asd\\asd\\asd\\asd'+'\\\\' #如确实要在末尾处用到“\\”字符的处理方法\n",
    "print(str)\n",
    "str = '''q\n",
    "q\n",
    "q\n",
    "q\n",
    "q\n",
    "''' #三个引号和回车相当于让每个回车空一行\n",
    "print(str)"
   ]
  },
  {
   "cell_type": "code",
   "execution_count": 9,
   "id": "51ceaeb9",
   "metadata": {},
   "outputs": [
    {
     "name": "stdout",
     "output_type": "stream",
     "text": [
      "不妨猜一下我现在心里想的是哪个数字：3\n",
      "猜小了\n",
      "不妨猜一下我现在心里想的是哪个数字：7\n",
      "猜大了！\n",
      "不妨猜一下我现在心里想的是哪个数字：5\n",
      "猜小了\n",
      "游戏结束，不玩啦^_^\n"
     ]
    },
    {
     "data": {
      "text/plain": [
       "False"
      ]
     },
     "execution_count": 9,
     "metadata": {},
     "output_type": "execute_result"
    }
   ],
   "source": [
    "################     004     ################\n",
    "import random\n",
    "secret = random.randint(1,10)\n",
    "i = 1\n",
    "while i <= 3:\n",
    "    temp = input(\"不妨猜一下我现在心里想的是哪个数字：\") #赋值一个字符串变量，不是数字\n",
    "    guess = int(temp) #将字符串转换为数字，必须是整数的字符串，有小数点就会报错\n",
    "    if guess == secret:\n",
    "        print(\"卧槽，你是我肚子里的蛔虫吗？！\") #缩进是Python代码简洁的核心原因\n",
    "        print(\"哼，猜中了也没有奖励\")\n",
    "        i = 1e99\n",
    "    else:\n",
    "        if guess > secret:\n",
    "            print(\"猜大了！\")\n",
    "            i = i + 1\n",
    "        else:\n",
    "            print(\"猜小了\")\n",
    "            i = i + 1\n",
    "print(\"游戏结束，不玩啦^_^\")\n",
    "3>2 and 1>2"
   ]
  },
  {
   "cell_type": "code",
   "execution_count": 20,
   "id": "54c8237f",
   "metadata": {},
   "outputs": [
    {
     "ename": "TypeError",
     "evalue": "'str' object is not callable",
     "output_type": "error",
     "traceback": [
      "\u001b[1;31m---------------------------------------------------------------------------\u001b[0m",
      "\u001b[1;31mTypeError\u001b[0m                                 Traceback (most recent call last)",
      "\u001b[1;32mC:\\Users\\ADMINI~1\\AppData\\Local\\Temp/ipykernel_1012/3911619728.py\u001b[0m in \u001b[0;36m<module>\u001b[1;34m\u001b[0m\n\u001b[0;32m     13\u001b[0m \u001b[0mfloat\u001b[0m\u001b[1;33m(\u001b[0m\u001b[0ma\u001b[0m\u001b[1;33m)\u001b[0m \u001b[1;31m#注意，00变成0\u001b[0m\u001b[1;33m\u001b[0m\u001b[1;33m\u001b[0m\u001b[0m\n\u001b[0;32m     14\u001b[0m \u001b[0ma\u001b[0m \u001b[1;33m=\u001b[0m \u001b[1;36m2e20\u001b[0m\u001b[1;33m\u001b[0m\u001b[1;33m\u001b[0m\u001b[0m\n\u001b[1;32m---> 15\u001b[1;33m \u001b[0mstr\u001b[0m\u001b[1;33m(\u001b[0m\u001b[0ma\u001b[0m\u001b[1;33m)\u001b[0m\u001b[1;33m\u001b[0m\u001b[1;33m\u001b[0m\u001b[0m\n\u001b[0m\u001b[0;32m     16\u001b[0m \u001b[0ma\u001b[0m \u001b[1;33m=\u001b[0m \u001b[1;36m0\u001b[0m\u001b[1;33m\u001b[0m\u001b[1;33m\u001b[0m\u001b[0m\n\u001b[0;32m     17\u001b[0m \u001b[0mbool\u001b[0m\u001b[1;33m(\u001b[0m\u001b[0ma\u001b[0m\u001b[1;33m)\u001b[0m\u001b[1;33m\u001b[0m\u001b[1;33m\u001b[0m\u001b[0m\n",
      "\u001b[1;31mTypeError\u001b[0m: 'str' object is not callable"
     ]
    }
   ],
   "source": [
    "################     005     ################\n",
    "#数据类型\n",
    "#整数、浮点数（Floating point number）、布尔型（Boolean）、字符串（String）\n",
    "#a = \"5.999\"\n",
    "#int(a) #会报错，因为字符串转整数，该字符串必须本身就是个整数才行。\n",
    "a = 5.999\n",
    "int(a) #浮点数转整数，直接砍掉小数部分。科学计数法也是浮点数\n",
    "a = True\n",
    "int(a) #布尔型数值，False是0，True是1。\n",
    "a = 5.00\n",
    "float(a) #注意，00变成0\n",
    "a = '5.00'\n",
    "float(a) #注意，00变成0\n",
    "a = 2e20\n",
    "str(a)\n",
    "a = 0\n",
    "bool(a)\n",
    "#注意：004讲内用了str作为新变量名称，虽然可以，但是在使用内置函数（BIF）作为新变量以后，该内置函数立即失效。\n",
    "#因此，不应该使用内置函数的名字作为新变量的名称。\n",
    "str = 5\n",
    "a = 5\n",
    "str(a)\n",
    "#判断数值类型的函数\n",
    "a = '5'\n",
    "type(a) #直接返回a的数据类型\n",
    "isinstance(a,int) #a为整数则返回True，否则返回False"
   ]
  },
  {
   "cell_type": "code",
   "execution_count": 11,
   "id": "92d9ea3f",
   "metadata": {},
   "outputs": [
    {
     "name": "stdout",
     "output_type": "stream",
     "text": [
      "-4\n",
      "1.25\n"
     ]
    },
    {
     "data": {
      "text/plain": [
       "True"
      ]
     },
     "execution_count": 11,
     "metadata": {},
     "output_type": "execute_result"
    }
   ],
   "source": [
    "################     006     ################\n",
    "#操作符\n",
    "a = 5\n",
    "a += 5 #即a = a + 5\n",
    "b = 6\n",
    "b -= a\n",
    "print(b)\n",
    "a = b = c = d = 10 #一行赋4个变量，全都等于10\n",
    "d /= 8\n",
    "print(d)\n",
    "10 / 5 #除法的结果会自动变为浮点数\n",
    "10 // 8 #地板除\n",
    "3.0 // 2 #若运算中出现了浮点数则结果也是浮点数\n",
    "3 // 2.0\n",
    "10 % 8 #求余数\n",
    "3 ** 3 #开方\n",
    "#运算符优先级：逻辑(and, or, not) > 比较(==, >, !=,...) > 开方 > 地板除 = 余数 = 乘法 = 除法 > 加法 = 减法\n",
    "3<4 and 4**1<6\n",
    "3<4**1<6 #省略and逻辑，与上一行一样"
   ]
  },
  {
   "cell_type": "code",
   "execution_count": 12,
   "id": "94c3b3e5",
   "metadata": {},
   "outputs": [
    {
     "name": "stdout",
     "output_type": "stream",
     "text": [
      "请输入成绩：89\n",
      "B\n",
      "请输入成绩：88\n",
      "B\n",
      "请输入成绩：9\n",
      "D\n",
      "4\n",
      "4\n"
     ]
    },
    {
     "ename": "AssertionError",
     "evalue": "",
     "output_type": "error",
     "traceback": [
      "\u001b[1;31m---------------------------------------------------------------------------\u001b[0m",
      "\u001b[1;31mAssertionError\u001b[0m                            Traceback (most recent call last)",
      "\u001b[1;32mC:\\Users\\ADMINI~1\\AppData\\Local\\Temp/ipykernel_1012/967740505.py\u001b[0m in \u001b[0;36m<module>\u001b[1;34m\u001b[0m\n\u001b[0;32m     51\u001b[0m \u001b[0mprint\u001b[0m\u001b[1;33m(\u001b[0m\u001b[0mx\u001b[0m \u001b[1;32mif\u001b[0m \u001b[0mx\u001b[0m \u001b[1;33m<\u001b[0m \u001b[0my\u001b[0m \u001b[1;32melse\u001b[0m \u001b[0my\u001b[0m\u001b[1;33m)\u001b[0m \u001b[1;31m#if的终极简化模式\u001b[0m\u001b[1;33m\u001b[0m\u001b[1;33m\u001b[0m\u001b[0m\n\u001b[0;32m     52\u001b[0m \u001b[1;33m\u001b[0m\u001b[0m\n\u001b[1;32m---> 53\u001b[1;33m \u001b[1;32massert\u001b[0m \u001b[1;36m5\u001b[0m \u001b[1;33m<\u001b[0m \u001b[1;36m4\u001b[0m \u001b[1;31m#assert后为False则让程序强制终止，可以用来debug\u001b[0m\u001b[1;33m\u001b[0m\u001b[1;33m\u001b[0m\u001b[0m\n\u001b[0m",
      "\u001b[1;31mAssertionError\u001b[0m: "
     ]
    }
   ],
   "source": [
    "################     008     ################\n",
    "score = float(input('请输入成绩：'))\n",
    "if 100 >= score >= 90:\n",
    "    print('A')\n",
    "else:\n",
    "    if 90 > score >= 80:\n",
    "        print('B')\n",
    "    else:\n",
    "        if 80 > score >= 60:\n",
    "            print('C')\n",
    "        else:\n",
    "            if 60 > score >= 0:\n",
    "                print('D')\n",
    "            else:\n",
    "                print('输入错误')\n",
    "\n",
    "\n",
    "score = float(input('请输入成绩：'))\n",
    "if 100 >= score >= 90: #这是if函数不加else的简洁模式，即if条件成立时执行，不成立时无事发生，继续执行接下来的代码\n",
    "    print('A')\n",
    "if 90 > score >= 80:\n",
    "    print('B')\n",
    "if 80 > score >= 60:\n",
    "    print('C')\n",
    "if 60 > score >= 0:\n",
    "    print('D')\n",
    "if score > 100 or score < 0:\n",
    "    print('输入错误')\n",
    "\n",
    "score = float(input('请输入成绩：'))\n",
    "if 100 >= score >= 90: #if套if的简便方法：elif\n",
    "    print('A')\n",
    "elif 90 > score >= 80:\n",
    "    print('B')\n",
    "elif 80 > score >= 60:\n",
    "    print('C')\n",
    "elif 60 > score >= 0:\n",
    "    print('D')\n",
    "else:\n",
    "    print('输入错误')\n",
    "\n",
    "#问：哪个方法最好？答：第三种最好，第二种会消耗4倍与方法一和方法二的时间和CPU功耗，并且方法三看上去更简洁，方便debug\n",
    "x = 4\n",
    "y = 5\n",
    "if x < y:\n",
    "    print(x)\n",
    "else:\n",
    "    print(y)\n",
    "\n",
    "x, y = 4, 5 #连续赋值\n",
    "print(x if x < y else y) #if的终极简化模式\n",
    "\n",
    "assert 5 < 4 #assert后为False则让程序强制终止，可以用来debug"
   ]
  },
  {
   "cell_type": "code",
   "execution_count": 13,
   "id": "0c2c06cf",
   "metadata": {},
   "outputs": [
    {
     "name": "stdout",
     "output_type": "stream",
     "text": [
      "F i s h C 小甲鱼 5\n",
      "黑夜 5\n",
      "小布丁 5\n",
      "迷途 5\n",
      "怡静 5\n",
      "小甲鱼 3\n",
      "黑夜 2\n",
      "小布丁 3\n",
      "迷途 2\n",
      "怡静 2\n",
      "2\n",
      "4\n",
      "6\n",
      "8\n",
      "请用一个字形容我：帅\n",
      "回答正确！\n",
      "请用一个字形容我：帅\n",
      "回答正确！\n",
      "2\n",
      "1\n",
      "4\n",
      "3\n",
      "6\n",
      "5\n",
      "8\n",
      "7\n",
      "10\n",
      "9\n"
     ]
    }
   ],
   "source": [
    "################     009     ################\n",
    "#强大的for循环\n",
    "favorite = 'FishC'\n",
    "for i in favorite: #从favorite字符串的第一个字符开始一直到最后一个字符为止，执行以下操作，\"i\"只是变量名字，无所谓\n",
    "    print(i , end=' ') #end='xxx'即在要输出的字符后继续添加字符xxx\n",
    "\n",
    "member = ['小甲鱼','黑夜','小布丁','迷途','怡静'] #创建列表，即向量\n",
    "for iii in member: #对字符串用for，生成结果不会空行，对列表用for生成的结果会空行。\n",
    "    print(iii, len(member)) #len: Return the number of items in a container，字符串中的汉字也视作一个元素\n",
    "for ttt in member: #ttt实际上已经是列表中的具体元素了\n",
    "    print(ttt, len(ttt))\n",
    "\n",
    "#for循环的辅助工具：range函数\n",
    "range(5) #从0开始，到5之前的一个数为止，每次增加1，不能取到5。开始的数和间距分别默认为0和1\n",
    "range(0,5,1) #从0开始，到5之前的一个数为止，每次增加1，不能取到5\n",
    "#range函数本身的输出结果是range(起始数，取不到的末尾数)，要想生成列表，则还需要list函数嵌套\n",
    "list(range(5)) #输出结果为[0,1,2,3,4]\n",
    "list(range(2,4,2)) #输出结果为[2]，这是因为根据range函数的定义，4是不能取到的。\n",
    "for i in range(2,9,2):\n",
    "    print(i)\n",
    "\n",
    "#break & continue\n",
    "bingo = '帅'\n",
    "answer = input('请用一个字形容我：')\n",
    "while True:\n",
    "    if answer == bingo:\n",
    "        break #直接跳出循坏\n",
    "    answer = input('回答错误，请重新输入：')\n",
    "print('回答正确！')\n",
    "\n",
    "answer = input('请用一个字形容我：')\n",
    "while answer != '帅':\n",
    "    answer = input('回答错误，请重新输入：')\n",
    "print('回答正确！')\n",
    "\n",
    "for i in range(10):\n",
    "    if i%2 != 0: #即判断i是否为奇数\n",
    "        print(i)\n",
    "        continue #中止本轮循环，直接进入下一轮循环。在进入下一轮循环前会测试循环条件如不满足则跳出循环\n",
    "    i += 2 #即i=i+2，注意在for循环下改变i的值，不会影响for循环本身的循环次数，即第二次循环前会将i重置为列表的第二个元素的值。\n",
    "    print(i)"
   ]
  }
 ],
 "metadata": {
  "kernelspec": {
   "display_name": "Python 3 (ipykernel)",
   "language": "python",
   "name": "python3"
  },
  "language_info": {
   "codemirror_mode": {
    "name": "ipython",
    "version": 3
   },
   "file_extension": ".py",
   "mimetype": "text/x-python",
   "name": "python",
   "nbconvert_exporter": "python",
   "pygments_lexer": "ipython3",
   "version": "3.9.7"
  }
 },
 "nbformat": 4,
 "nbformat_minor": 5
}
